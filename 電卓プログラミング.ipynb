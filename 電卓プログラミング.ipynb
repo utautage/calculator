{
  "nbformat": 4,
  "nbformat_minor": 0,
  "metadata": {
    "colab": {
      "provenance": [],
      "collapsed_sections": [
        "WCVMryRF0jYi",
        "iQ-u14aRCEJB",
        "ebrrAXxpCG54",
        "OdWMhpmbPbBT",
        "sdrmL7ckOnLE"
      ],
      "authorship_tag": "ABX9TyNoa9N2bQFBo6KCsk5cITwi",
      "include_colab_link": true
    },
    "kernelspec": {
      "name": "python3",
      "display_name": "Python 3"
    },
    "language_info": {
      "name": "python"
    }
  },
  "cells": [
    {
      "cell_type": "markdown",
      "metadata": {
        "id": "view-in-github",
        "colab_type": "text"
      },
      "source": [
        "<a href=\"https://colab.research.google.com/github/utautage/calculator/blob/main/%E9%9B%BB%E5%8D%93%E3%83%97%E3%83%AD%E3%82%B0%E3%83%A9%E3%83%9F%E3%83%B3%E3%82%B0.ipynb\" target=\"_parent\"><img src=\"https://colab.research.google.com/assets/colab-badge.svg\" alt=\"Open In Colab\"/></a>"
      ]
    },
    {
      "cell_type": "markdown",
      "source": [
        "# 実験2（High and Low）"
      ],
      "metadata": {
        "id": "WCVMryRF0jYi"
      }
    },
    {
      "cell_type": "code",
      "execution_count": null,
      "metadata": {
        "colab": {
          "base_uri": "https://localhost:8080/"
        },
        "id": "36kVXyeuz9-w",
        "outputId": "8e2561b3-bc6c-4ac4-c8df-f5fde517be36"
      },
      "outputs": [
        {
          "output_type": "stream",
          "name": "stdout",
          "text": [
            "私の考えた0〜99の数はな〜んだ？50\n",
            "too Low\n",
            "私の考えた0〜99の数はな〜んだ？75\n",
            "too High\n",
            "私の考えた0〜99の数はな〜んだ？63\n",
            "too High\n",
            "私の考えた0〜99の数はな〜んだ？57\n",
            "too High\n",
            "私の考えた0〜99の数はな〜んだ？54\n",
            "too Low\n",
            "私の考えた0〜99の数はな〜んだ？55\n",
            "too Low\n",
            "私の考えた0〜99の数はな〜んだ？56\n",
            "Bingo!!\n"
          ]
        }
      ],
      "source": [
        "import random\n",
        "answer = int(random.random() * 100)\n",
        "while True:\n",
        "    guess = int(input(\"私の考えた0〜99の数はな〜んだ？\"))\n",
        "    if answer == guess:\n",
        "        print(\"Bingo!!\")\n",
        "        break\n",
        "    elif answer < guess:\n",
        "        print(\"too High\")\n",
        "    else:\n",
        "        print(\"too Low\")"
      ]
    },
    {
      "cell_type": "markdown",
      "source": [
        "# 実験3〜6（電卓プログラミング）"
      ],
      "metadata": {
        "id": "K6Vlr-8H2Dsa"
      }
    },
    {
      "cell_type": "markdown",
      "source": [
        "## 実験3（数の認識）"
      ],
      "metadata": {
        "id": "iQ-u14aRCEJB"
      }
    },
    {
      "cell_type": "markdown",
      "source": [
        "入力`string`には、EndOfLineとして改行文字`\\n`を追加しておく。これが無いと、数字の次の文字を読んでエラーになる。文字列の長さをチェックする方法もあるが、そちらは実装が面倒なので、こちらの方が楽ではある。"
      ],
      "metadata": {
        "id": "_5KGnBDFu0pb"
      }
    },
    {
      "cell_type": "code",
      "source": [
        "def extractNumber(string, index):\n",
        "    result = \"\"\n",
        "    if string[index] == \"-\":\n",
        "        result += string[index]\n",
        "        index += 1\n",
        "    if string[index] == \".\":\n",
        "        result += string[index]\n",
        "        index += 1\n",
        "        while str.isdigit(string[index]):\n",
        "            result += string[index]\n",
        "            index += 1\n",
        "    else:\n",
        "        while str.isdigit(string[index]):\n",
        "            result += string[index]\n",
        "            index += 1\n",
        "        if string[index] == \".\":\n",
        "            result += string[index]\n",
        "            index += 1\n",
        "        while str.isdigit(string[index]):\n",
        "            result += string[index]\n",
        "            index += 1\n",
        "    return float(result), index\n",
        "\n",
        "string = input(\"実数を入力してください\")\n",
        "string += \"\\n\"\n",
        "result = extractNumber(string, 0)\n",
        "print(result)\n",
        "print(result[0])"
      ],
      "metadata": {
        "colab": {
          "base_uri": "https://localhost:8080/"
        },
        "id": "CiulXryL1Re1",
        "outputId": "0c877859-7c42-4561-9c8d-0e3c326d0036"
      },
      "execution_count": null,
      "outputs": [
        {
          "output_type": "stream",
          "name": "stdout",
          "text": [
            "実数を入力してください1\n",
            "(1.0, 1)\n",
            "1.0\n"
          ]
        }
      ]
    },
    {
      "cell_type": "markdown",
      "source": [
        "## 実験4（加減算）\n"
      ],
      "metadata": {
        "id": "ebrrAXxpCG54"
      }
    },
    {
      "cell_type": "code",
      "source": [
        "def calculateExpression(string, index):\n",
        "    term, index = calculateTerm(string, index)\n",
        "    match string[index]:\n",
        "        case \"+\":\n",
        "            expression, index = calculateExpression(string, index + 1)\n",
        "            term += expression\n",
        "        case \"-\":\n",
        "            expression, index = calculateExpression(string, index + 1)\n",
        "            term -= expression\n",
        "    return term, index\n",
        "\n",
        "string = input(\"実数の式を入力してください\")\n",
        "string += \"\\n\"\n",
        "result = calculateExpression(string, 0)\n",
        "print(result[0])"
      ],
      "metadata": {
        "id": "Svvc9tS3BFmu",
        "colab": {
          "base_uri": "https://localhost:8080/",
          "height": 332
        },
        "outputId": "f074f129-3051-4e52-806f-23b90316208a"
      },
      "execution_count": null,
      "outputs": [
        {
          "name": "stdout",
          "output_type": "stream",
          "text": [
            "実数の式を入力してください1\n"
          ]
        },
        {
          "output_type": "error",
          "ename": "NameError",
          "evalue": "name 'calculateTerm' is not defined",
          "traceback": [
            "\u001b[0;31m---------------------------------------------------------------------------\u001b[0m",
            "\u001b[0;31mNameError\u001b[0m                                 Traceback (most recent call last)",
            "\u001b[0;32m<ipython-input-2-10d6e6f9ac1e>\u001b[0m in \u001b[0;36m<cell line: 14>\u001b[0;34m()\u001b[0m\n\u001b[1;32m     12\u001b[0m \u001b[0mstring\u001b[0m \u001b[0;34m=\u001b[0m \u001b[0minput\u001b[0m\u001b[0;34m(\u001b[0m\u001b[0;34m\"実数の式を入力してください\"\u001b[0m\u001b[0;34m)\u001b[0m\u001b[0;34m\u001b[0m\u001b[0;34m\u001b[0m\u001b[0m\n\u001b[1;32m     13\u001b[0m \u001b[0mstring\u001b[0m \u001b[0;34m+=\u001b[0m \u001b[0;34m\"\\n\"\u001b[0m\u001b[0;34m\u001b[0m\u001b[0;34m\u001b[0m\u001b[0m\n\u001b[0;32m---> 14\u001b[0;31m \u001b[0mresult\u001b[0m \u001b[0;34m=\u001b[0m \u001b[0mcalculateExpression\u001b[0m\u001b[0;34m(\u001b[0m\u001b[0mstring\u001b[0m\u001b[0;34m,\u001b[0m \u001b[0;36m0\u001b[0m\u001b[0;34m)\u001b[0m\u001b[0;34m\u001b[0m\u001b[0;34m\u001b[0m\u001b[0m\n\u001b[0m\u001b[1;32m     15\u001b[0m \u001b[0mprint\u001b[0m\u001b[0;34m(\u001b[0m\u001b[0mresult\u001b[0m\u001b[0;34m[\u001b[0m\u001b[0;36m0\u001b[0m\u001b[0;34m]\u001b[0m\u001b[0;34m)\u001b[0m\u001b[0;34m\u001b[0m\u001b[0;34m\u001b[0m\u001b[0m\n",
            "\u001b[0;32m<ipython-input-2-10d6e6f9ac1e>\u001b[0m in \u001b[0;36mcalculateExpression\u001b[0;34m(string, index)\u001b[0m\n\u001b[1;32m      1\u001b[0m \u001b[0;32mdef\u001b[0m \u001b[0mcalculateExpression\u001b[0m\u001b[0;34m(\u001b[0m\u001b[0mstring\u001b[0m\u001b[0;34m,\u001b[0m \u001b[0mindex\u001b[0m\u001b[0;34m)\u001b[0m\u001b[0;34m:\u001b[0m\u001b[0;34m\u001b[0m\u001b[0;34m\u001b[0m\u001b[0m\n\u001b[0;32m----> 2\u001b[0;31m     \u001b[0mterm\u001b[0m\u001b[0;34m,\u001b[0m \u001b[0mindex\u001b[0m \u001b[0;34m=\u001b[0m \u001b[0mcalculateTerm\u001b[0m\u001b[0;34m(\u001b[0m\u001b[0mstring\u001b[0m\u001b[0;34m,\u001b[0m \u001b[0mindex\u001b[0m\u001b[0;34m)\u001b[0m\u001b[0;34m\u001b[0m\u001b[0;34m\u001b[0m\u001b[0m\n\u001b[0m\u001b[1;32m      3\u001b[0m     \u001b[0mmatch\u001b[0m \u001b[0mstring\u001b[0m\u001b[0;34m[\u001b[0m\u001b[0mindex\u001b[0m\u001b[0;34m]\u001b[0m\u001b[0;34m:\u001b[0m\u001b[0;34m\u001b[0m\u001b[0;34m\u001b[0m\u001b[0m\n\u001b[1;32m      4\u001b[0m         \u001b[0mcase\u001b[0m \u001b[0;34m\"+\"\u001b[0m\u001b[0;34m:\u001b[0m\u001b[0;34m\u001b[0m\u001b[0;34m\u001b[0m\u001b[0m\n\u001b[1;32m      5\u001b[0m             \u001b[0mexpression\u001b[0m\u001b[0;34m,\u001b[0m \u001b[0mindex\u001b[0m \u001b[0;34m=\u001b[0m \u001b[0mcalculateExpression\u001b[0m\u001b[0;34m(\u001b[0m\u001b[0mstring\u001b[0m\u001b[0;34m,\u001b[0m \u001b[0mindex\u001b[0m \u001b[0;34m+\u001b[0m \u001b[0;36m1\u001b[0m\u001b[0;34m)\u001b[0m\u001b[0;34m\u001b[0m\u001b[0;34m\u001b[0m\u001b[0m\n",
            "\u001b[0;31mNameError\u001b[0m: name 'calculateTerm' is not defined"
          ]
        }
      ]
    },
    {
      "cell_type": "markdown",
      "source": [
        "## 実験5（四則演算）"
      ],
      "metadata": {
        "id": "OdWMhpmbPbBT"
      }
    },
    {
      "cell_type": "code",
      "source": [
        "def calculateTerm(string, index):\n",
        "    factor, index = calculateFactor(string, index)\n",
        "    match string[index]:\n",
        "        case \"*\":\n",
        "            term, index = calculateTerm(string, index + 1)\n",
        "            factor *= term\n",
        "        case \"/\":\n",
        "            term, index = calculateTerm(string, index + 1)\n",
        "            factor /= term\n",
        "    return factor, index\n",
        "\n",
        "string = input(\"実数の式を入力してください\")\n",
        "string += \"\\n\"\n",
        "result = calculateExpression(string, 0)\n",
        "print(result[0])"
      ],
      "metadata": {
        "colab": {
          "base_uri": "https://localhost:8080/",
          "height": 356
        },
        "id": "r76poKLwPhJF",
        "outputId": "981bb583-7f5a-41dc-88f4-f56186fe8a1b"
      },
      "execution_count": null,
      "outputs": [
        {
          "name": "stdout",
          "output_type": "stream",
          "text": [
            "実数の式を入力してください1\n"
          ]
        },
        {
          "output_type": "error",
          "ename": "NameError",
          "evalue": "name 'extractNumber' is not defined",
          "traceback": [
            "\u001b[0;31m---------------------------------------------------------------------------\u001b[0m",
            "\u001b[0;31mNameError\u001b[0m                                 Traceback (most recent call last)",
            "\u001b[0;32m<ipython-input-3-c902f1720a32>\u001b[0m in \u001b[0;36m<cell line: 14>\u001b[0;34m()\u001b[0m\n\u001b[1;32m     12\u001b[0m \u001b[0mstring\u001b[0m \u001b[0;34m=\u001b[0m \u001b[0minput\u001b[0m\u001b[0;34m(\u001b[0m\u001b[0;34m\"実数の式を入力してください\"\u001b[0m\u001b[0;34m)\u001b[0m\u001b[0;34m\u001b[0m\u001b[0;34m\u001b[0m\u001b[0m\n\u001b[1;32m     13\u001b[0m \u001b[0mstring\u001b[0m \u001b[0;34m+=\u001b[0m \u001b[0;34m\"\\n\"\u001b[0m\u001b[0;34m\u001b[0m\u001b[0;34m\u001b[0m\u001b[0m\n\u001b[0;32m---> 14\u001b[0;31m \u001b[0mresult\u001b[0m \u001b[0;34m=\u001b[0m \u001b[0mcalculateExpression\u001b[0m\u001b[0;34m(\u001b[0m\u001b[0mstring\u001b[0m\u001b[0;34m,\u001b[0m \u001b[0;36m0\u001b[0m\u001b[0;34m)\u001b[0m\u001b[0;34m\u001b[0m\u001b[0;34m\u001b[0m\u001b[0m\n\u001b[0m\u001b[1;32m     15\u001b[0m \u001b[0mprint\u001b[0m\u001b[0;34m(\u001b[0m\u001b[0mresult\u001b[0m\u001b[0;34m[\u001b[0m\u001b[0;36m0\u001b[0m\u001b[0;34m]\u001b[0m\u001b[0;34m)\u001b[0m\u001b[0;34m\u001b[0m\u001b[0;34m\u001b[0m\u001b[0m\n",
            "\u001b[0;32m<ipython-input-2-10d6e6f9ac1e>\u001b[0m in \u001b[0;36mcalculateExpression\u001b[0;34m(string, index)\u001b[0m\n\u001b[1;32m      1\u001b[0m \u001b[0;32mdef\u001b[0m \u001b[0mcalculateExpression\u001b[0m\u001b[0;34m(\u001b[0m\u001b[0mstring\u001b[0m\u001b[0;34m,\u001b[0m \u001b[0mindex\u001b[0m\u001b[0;34m)\u001b[0m\u001b[0;34m:\u001b[0m\u001b[0;34m\u001b[0m\u001b[0;34m\u001b[0m\u001b[0m\n\u001b[0;32m----> 2\u001b[0;31m     \u001b[0mterm\u001b[0m\u001b[0;34m,\u001b[0m \u001b[0mindex\u001b[0m \u001b[0;34m=\u001b[0m \u001b[0mcalculateTerm\u001b[0m\u001b[0;34m(\u001b[0m\u001b[0mstring\u001b[0m\u001b[0;34m,\u001b[0m \u001b[0mindex\u001b[0m\u001b[0;34m)\u001b[0m\u001b[0;34m\u001b[0m\u001b[0;34m\u001b[0m\u001b[0m\n\u001b[0m\u001b[1;32m      3\u001b[0m     \u001b[0mmatch\u001b[0m \u001b[0mstring\u001b[0m\u001b[0;34m[\u001b[0m\u001b[0mindex\u001b[0m\u001b[0;34m]\u001b[0m\u001b[0;34m:\u001b[0m\u001b[0;34m\u001b[0m\u001b[0;34m\u001b[0m\u001b[0m\n\u001b[1;32m      4\u001b[0m         \u001b[0mcase\u001b[0m \u001b[0;34m\"+\"\u001b[0m\u001b[0;34m:\u001b[0m\u001b[0;34m\u001b[0m\u001b[0;34m\u001b[0m\u001b[0m\n\u001b[1;32m      5\u001b[0m             \u001b[0mexpression\u001b[0m\u001b[0;34m,\u001b[0m \u001b[0mindex\u001b[0m \u001b[0;34m=\u001b[0m \u001b[0mcalculateExpression\u001b[0m\u001b[0;34m(\u001b[0m\u001b[0mstring\u001b[0m\u001b[0;34m,\u001b[0m \u001b[0mindex\u001b[0m \u001b[0;34m+\u001b[0m \u001b[0;36m1\u001b[0m\u001b[0;34m)\u001b[0m\u001b[0;34m\u001b[0m\u001b[0;34m\u001b[0m\u001b[0m\n",
            "\u001b[0;32m<ipython-input-3-c902f1720a32>\u001b[0m in \u001b[0;36mcalculateTerm\u001b[0;34m(string, index)\u001b[0m\n\u001b[1;32m      1\u001b[0m \u001b[0;32mdef\u001b[0m \u001b[0mcalculateTerm\u001b[0m\u001b[0;34m(\u001b[0m\u001b[0mstring\u001b[0m\u001b[0;34m,\u001b[0m \u001b[0mindex\u001b[0m\u001b[0;34m)\u001b[0m\u001b[0;34m:\u001b[0m\u001b[0;34m\u001b[0m\u001b[0;34m\u001b[0m\u001b[0m\n\u001b[0;32m----> 2\u001b[0;31m     \u001b[0mfactor\u001b[0m\u001b[0;34m,\u001b[0m \u001b[0mindex\u001b[0m \u001b[0;34m=\u001b[0m \u001b[0mcalculateFactor\u001b[0m\u001b[0;34m(\u001b[0m\u001b[0mstring\u001b[0m\u001b[0;34m,\u001b[0m \u001b[0mindex\u001b[0m\u001b[0;34m)\u001b[0m\u001b[0;34m\u001b[0m\u001b[0;34m\u001b[0m\u001b[0m\n\u001b[0m\u001b[1;32m      3\u001b[0m     \u001b[0mmatch\u001b[0m \u001b[0mstring\u001b[0m\u001b[0;34m[\u001b[0m\u001b[0mindex\u001b[0m\u001b[0;34m]\u001b[0m\u001b[0;34m:\u001b[0m\u001b[0;34m\u001b[0m\u001b[0;34m\u001b[0m\u001b[0m\n\u001b[1;32m      4\u001b[0m         \u001b[0mcase\u001b[0m \u001b[0;34m\"*\"\u001b[0m\u001b[0;34m:\u001b[0m\u001b[0;34m\u001b[0m\u001b[0;34m\u001b[0m\u001b[0m\n\u001b[1;32m      5\u001b[0m             \u001b[0mterm\u001b[0m\u001b[0;34m,\u001b[0m \u001b[0mindex\u001b[0m \u001b[0;34m=\u001b[0m \u001b[0mcalculateTerm\u001b[0m\u001b[0;34m(\u001b[0m\u001b[0mstring\u001b[0m\u001b[0;34m,\u001b[0m \u001b[0mindex\u001b[0m \u001b[0;34m+\u001b[0m \u001b[0;36m1\u001b[0m\u001b[0;34m)\u001b[0m\u001b[0;34m\u001b[0m\u001b[0;34m\u001b[0m\u001b[0m\n",
            "\u001b[0;32m<ipython-input-1-586407fcbd6d>\u001b[0m in \u001b[0;36mcalculateFactor\u001b[0;34m(string, index)\u001b[0m\n\u001b[1;32m      3\u001b[0m \u001b[0;32mdef\u001b[0m \u001b[0mcalculateFactor\u001b[0m\u001b[0;34m(\u001b[0m\u001b[0mstring\u001b[0m\u001b[0;34m,\u001b[0m \u001b[0mindex\u001b[0m\u001b[0;34m)\u001b[0m\u001b[0;34m:\u001b[0m\u001b[0;34m\u001b[0m\u001b[0;34m\u001b[0m\u001b[0m\n\u001b[1;32m      4\u001b[0m     \u001b[0;32mif\u001b[0m \u001b[0mstr\u001b[0m\u001b[0;34m.\u001b[0m\u001b[0misdigit\u001b[0m\u001b[0;34m(\u001b[0m\u001b[0mstring\u001b[0m\u001b[0;34m[\u001b[0m\u001b[0mindex\u001b[0m\u001b[0;34m]\u001b[0m\u001b[0;34m)\u001b[0m\u001b[0;34m:\u001b[0m\u001b[0;34m\u001b[0m\u001b[0;34m\u001b[0m\u001b[0m\n\u001b[0;32m----> 5\u001b[0;31m         \u001b[0;32mreturn\u001b[0m \u001b[0mextractNumber\u001b[0m\u001b[0;34m(\u001b[0m\u001b[0mstring\u001b[0m\u001b[0;34m,\u001b[0m \u001b[0mindex\u001b[0m\u001b[0;34m)\u001b[0m\u001b[0;34m\u001b[0m\u001b[0;34m\u001b[0m\u001b[0m\n\u001b[0m\u001b[1;32m      6\u001b[0m     \u001b[0;32melif\u001b[0m \u001b[0mstring\u001b[0m\u001b[0;34m[\u001b[0m\u001b[0mindex\u001b[0m\u001b[0;34m]\u001b[0m \u001b[0;34m==\u001b[0m \u001b[0;34m\"(\"\u001b[0m\u001b[0;34m:\u001b[0m\u001b[0;34m\u001b[0m\u001b[0;34m\u001b[0m\u001b[0m\n\u001b[1;32m      7\u001b[0m         \u001b[0mexpression\u001b[0m\u001b[0;34m,\u001b[0m \u001b[0mindex\u001b[0m \u001b[0;34m=\u001b[0m \u001b[0mcalculateExpression\u001b[0m\u001b[0;34m(\u001b[0m\u001b[0mstring\u001b[0m\u001b[0;34m,\u001b[0m \u001b[0mindex\u001b[0m \u001b[0;34m+\u001b[0m \u001b[0;36m1\u001b[0m\u001b[0;34m)\u001b[0m\u001b[0;34m\u001b[0m\u001b[0;34m\u001b[0m\u001b[0m\n",
            "\u001b[0;31mNameError\u001b[0m: name 'extractNumber' is not defined"
          ]
        }
      ]
    },
    {
      "cell_type": "markdown",
      "source": [
        "## 実験6（括弧を使う）"
      ],
      "metadata": {
        "id": "sdrmL7ckOnLE"
      }
    },
    {
      "cell_type": "code",
      "source": [
        "def calculateFactor(string, index):\n",
        "    if string[index] == \"(\":\n",
        "        expression, index = calculateExpression(string, index + 1)\n",
        "        return expression, index + 1 # この時点でポインタは閉じ括弧を指しているはずなので、ポインタを1文字進める\n",
        "    else:\n",
        "        return extractNumber(string, index)\n",
        "\n",
        "string = input(\"実数の式を入力してください\")\n",
        "string += \"\\n\"\n",
        "result = calculateExpression(string, 0)\n",
        "print(result[0])"
      ],
      "metadata": {
        "colab": {
          "base_uri": "https://localhost:8080/"
        },
        "id": "N8yb8_otO12q",
        "outputId": "07ed8c46-28e8-4233-d19d-5a0d241c8a47"
      },
      "execution_count": null,
      "outputs": [
        {
          "output_type": "stream",
          "name": "stdout",
          "text": [
            "実数の式を入力してください1\n",
            "1.0\n"
          ]
        }
      ]
    },
    {
      "cell_type": "markdown",
      "source": [
        "# 考察"
      ],
      "metadata": {
        "id": "UgBUthetUFBU"
      }
    },
    {
      "cell_type": "markdown",
      "source": [
        "## 三角関数や、その他の算術関数を追加するにはどうしたらよいだろうか？"
      ],
      "metadata": {
        "id": "GMxMDfHsUROy"
      }
    },
    {
      "cell_type": "markdown",
      "source": [
        "関数を実装するために、因子の構文をBNF記法で次のように変更する。\n",
        "\n",
        "```\n",
        "<因子> ::= <数> | \"(\" <式> \")\" | <関数>\n",
        "<関数> ::= <識別子> \"(\" (<式> (\",\" <式>)*)? \")\"\n",
        "<識別子> ::= (<英字> | <アンダースコア>) (<英字> | <数字> | <アンダースコア>)*\n",
        "<英字> ::= \"a\" | \"b\" | \"c\" | \"d\" | \"e\" | \"f\" | \"g\" | \"h\" | \"i\" | \"j\" | \"k\" | \"l\" | \"m\" | \"n\" | \"o\" | \"p\" | \"q\" | \"r\" | \"s\" | \"t\" | \"u\" | \"v\" | \"w\" | \"x\" | \"y\" | \"z\"\n",
        "<アンダースコア> ::= \"_\"\n",
        "```\n",
        "\n",
        "関数の定義を分かりやすく書くと`関数名(引数1[,引数2...])`となる。英字の大小は区別せず、計算の過程で大文字は小文字に変換されるとする。\n",
        "\n",
        "そこで、`calculateFactor`の仕様を次のように変更する。\n",
        "\n",
        "> 読み込んだ文字が…\n",
        "> - 数字なら、単なる数である。`extractNumber`で数を検出する。\n",
        "> - 開き括弧`(`なら、次の文字から式が現れる。ポインタを1文字進め、`calculateExpression`で式を評価する。\n",
        "> - 英字かアンダースコアなら、識別子である。\n",
        ">   1. 英字・数字・アンダースコア以外の文字が出るまで、ポインタを進めながら文字を読んでいく。\n",
        ">   1. 識別子の後には開き括弧`(`が現れる（そうでなければ変数だが、その実装は時間がなくてできなかった）。ポインタを1文字進める。\n",
        ">   1. 引数を読み取る。\n",
        ">   1. 検出した関数名や引数の値から適当な値を返す。\n",
        "\n",
        "引数を読み取る処理は次のように実装する。\n",
        "\n",
        "> 読み込んだ文字が…\n",
        "> - 閉じ括弧`)`なら、これ以上先に引数は無い。ポインタを1文字進め、処理を打ち切る。\n",
        "> - 閉じ括弧でなければ、引数として式が現れる。\n",
        ">   1. `calculateExpression`で式を評価する。\n",
        ">   1. 式の後にはカンマ`,`か閉じ括弧が現れる。ポインタを1文字進める。\n",
        ">   1. 処理全体をもう一度繰り返す。"
      ],
      "metadata": {
        "id": "F66FsooY0nW7"
      }
    },
    {
      "cell_type": "code",
      "source": [
        "import math\n",
        "\n",
        "def calculateFactor(string, index):\n",
        "    if str.isdigit(string[index]):\n",
        "        return extractNumber(string, index)\n",
        "    elif string[index] == \"(\":\n",
        "        expression, index = calculateExpression(string, index + 1)\n",
        "        return expression, index + 1 # この時点でポインタは閉じ括弧を指しているはずなので、ポインタを1文字進める\n",
        "    elif str.isalpha(string[index]) or string[index] == \"_\":\n",
        "        identifier = string[index]\n",
        "        index += 1\n",
        "        while str.isalnum(string[index]) or str.isdigit(string[index]) or string[index] == \"_\":\n",
        "            identifier += string[index]\n",
        "            index += 1\n",
        "        identifier = identifier.lower()\n",
        "        index += 1 # この時点でポインタは開き括弧を指しているはずなので、ポインタを1文字進める\n",
        "        arguments = []\n",
        "        while True:\n",
        "            if string[index] == \")\":\n",
        "                index += 1\n",
        "                break\n",
        "            argument, index = calculateExpression(string, index)\n",
        "            arguments.append(argument)\n",
        "        match identifier:\n",
        "            case \"sin\":\n",
        "                return math.sin(arguments[0]), index\n",
        "            case \"cos\":\n",
        "                return math.cos(arguments[0]), index\n",
        "            case \"pi\":\n",
        "                return math.pi, index\n",
        "\n",
        "string = input(\"実数の式を入力してください\")\n",
        "string += \"\\n\"\n",
        "result = calculateExpression(string, 0)\n",
        "print(result[0])"
      ],
      "metadata": {
        "colab": {
          "base_uri": "https://localhost:8080/"
        },
        "id": "f7L3DaUhx5o4",
        "outputId": "4ed17432-df42-41b5-a089-981b9785482f"
      },
      "execution_count": null,
      "outputs": [
        {
          "output_type": "stream",
          "name": "stdout",
          "text": [
            "実数の式を入力してくださいsin(pi()/2)\n",
            "1.0\n"
          ]
        }
      ]
    },
    {
      "cell_type": "markdown",
      "source": [
        "## 変数を使えるようにするにはどうしたらよいだろうか？"
      ],
      "metadata": {
        "id": "gm4fkz8KUVKH"
      }
    },
    {
      "cell_type": "markdown",
      "source": [
        "変数の代入は、`<変数名> = <式>`で行うことにする。それに伴い、通常の演算は、`= <式>`で行うことにする。\n",
        "\n",
        "`=`の右側に識別子が単体で（後ろに`(`が付かない→関数ではない）出てきたときは、保存されている値に置き換えて計算する。"
      ],
      "metadata": {
        "id": "xc_Z-4RCkpB4"
      }
    },
    {
      "cell_type": "markdown",
      "source": [
        "## 式に余分な空白があったらどうしようか？"
      ],
      "metadata": {
        "id": "LAQW0HzmUZq7"
      }
    },
    {
      "cell_type": "markdown",
      "source": [
        "現状のプログラムでは、式に空白文字を含むケースが想定されていない。この場合、エラーが発生して正常に計算することができない。\n",
        "\n",
        "逆に言えば、式の空白文字を削除する、つまり空文字列に置き換えることで、正常に計算できるようになるはずである。"
      ],
      "metadata": {
        "id": "jQB02qMR0BUD"
      }
    },
    {
      "cell_type": "code",
      "source": [
        "string = input(\"実数の式を入力してください\")\n",
        "string += \"\\n\"\n",
        "string = string.replace(\" \", \"\") # 追加。スペースを空文字列に置き換え\n",
        "result = calculateExpression(string, 0)\n",
        "print(result[0])"
      ],
      "metadata": {
        "colab": {
          "base_uri": "https://localhost:8080/"
        },
        "id": "gTGA59Q5YE2Z",
        "outputId": "c8e72577-43be-416b-9d79-29d99c0e6f4b"
      },
      "execution_count": null,
      "outputs": [
        {
          "output_type": "stream",
          "name": "stdout",
          "text": [
            "実数の式を入力してください5 * (1 + 2) - 6 / 3\n",
            "13.0\n"
          ]
        }
      ]
    },
    {
      "cell_type": "markdown",
      "source": [
        "## 文法エラーを見つけたらどうしようか？"
      ],
      "metadata": {
        "id": "yXa9_LM4UdKr"
      }
    },
    {
      "cell_type": "markdown",
      "source": [
        "エラーを投げる。\n",
        "\n",
        "具体的には、次のような場合を検出したら、エラーメッセージを出力して処理を中断する。\n",
        "- 因子の終わりに`)`がない。\n",
        "- 演算に使われない文字（英数字・アンダースコア・括弧・四則演算子以外）がある。\n",
        "- まだ代入されていない変数（識別子）が計算式に登場している。"
      ],
      "metadata": {
        "id": "bWND9GqD0Gl0"
      }
    }
  ]
}